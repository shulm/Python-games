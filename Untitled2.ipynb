{
  "nbformat": 4,
  "nbformat_minor": 0,
  "metadata": {
    "colab": {
      "provenance": [],
      "collapsed_sections": [],
      "authorship_tag": "ABX9TyPM3HMMZu6OkGAkOle3eWWI",
      "include_colab_link": true
    },
    "kernelspec": {
      "name": "python3",
      "display_name": "Python 3"
    },
    "language_info": {
      "name": "python"
    },
    "accelerator": "GPU",
    "gpuClass": "standard"
  },
  "cells": [
    {
      "cell_type": "markdown",
      "metadata": {
        "id": "view-in-github",
        "colab_type": "text"
      },
      "source": [
        "<a href=\"https://colab.research.google.com/github/shulm/Python-games/blob/master/Untitled2.ipynb\" target=\"_parent\"><img src=\"https://colab.research.google.com/assets/colab-badge.svg\" alt=\"Open In Colab\"/></a>"
      ]
    },
    {
      "cell_type": "code",
      "execution_count": 5,
      "metadata": {
        "id": "TmYTaYryBEDA",
        "colab": {
          "base_uri": "https://localhost:8080/"
        },
        "outputId": "4d7ee654-7064-473d-9a65-6017ad07d25b"
      },
      "outputs": [
        {
          "output_type": "stream",
          "name": "stdout",
          "text": [
            "GOLD_M1.csv  \u001b[0m\u001b[01;34msample_data\u001b[0m/\n"
          ]
        }
      ],
      "source": [
        "ls"
      ]
    },
    {
      "cell_type": "code",
      "source": [
        "import numpy as np\n",
        "import pandas as pd\n",
        "import matplotlib.pyplot as plt\n",
        "!pip install -q pandas_ta\n",
        "import pandas_ta as ta\n",
        "from datetime import datetime, timedelta\n"
      ],
      "metadata": {
        "id": "Vma7L6dVM667"
      },
      "execution_count": 1,
      "outputs": []
    },
    {
      "cell_type": "code",
      "source": [
        "def open_short_csv_history(path='BRENT_M1.csv',fromData=\"2020.10.18\",symbol='BRENT'):\n",
        "    colnames=['Date', 'Time', \"open\",\"high\",\"low\",\"close\",\"volume\"] \n",
        "    x=pd.read_csv(str(path),names=colnames)\n",
        "    x['time']=pd.to_datetime(x['Date']  + ' ' + x['Time'], format='%Y-%m-%d %H:%M:%S')\n",
        "    x=x[x[\"Date\"]>fromData]\n",
        "    x.drop(columns=['Date',\"Time\",\"volume\"])\n",
        "    return x\n",
        "GOLD=open_short_csv_history()"
      ],
      "metadata": {
        "id": "54Y7r0IVNESc"
      },
      "execution_count": 2,
      "outputs": []
    },
    {
      "cell_type": "code",
      "source": [
        "def add_Indicators_FIBO(dataset):\n",
        "    dataset[\"atr\"]=ta.atr(dataset.high,dataset.low,dataset.close)\n",
        "    dataset['RSI(14)'] = ta.rsi(dataset['close'],length=14)\n",
        "    dataset['RSI(30)'] = ta.rsi(dataset['close'],length=30)\n",
        "    dataset= pd.concat([dataset, dataset.ta.stoch(dataset[\"high\"],dataset[\"low\"],dataset[\"close\"], k=None, d=None, smooth_k=None, mamode=None, offset=None)], axis=1) \n",
        " #   dataset['CCI(20)'] = ta.cci(close=dataset['close'],length=20,high=dataset['high'],low=dataset['low'])\n",
        "    dataset['CCI(100)'] = ta.cci(close=dataset['close'],length=100,high=dataset['high'],low=dataset['low'])\n",
        "    dataset=pd.concat([dataset, dataset.ta.bbands(close=dataset['close'])], axis=1)\n",
        "  #  dataset['ema_RSI_14']=ta.sma(dataset[\"RSI(14)\"], length=14)\n",
        " #   dataset['ema_RSI_21']=ta.sma(dataset[\"RSI(14)\"], length=21)\n",
        "  #  dataset['ema_RSI_34']=ta.sma(dataset[\"RSI(14)\"], length=34)\n",
        "  #  dataset['ema_RSI_55']=ta.sma(dataset[\"RSI(14)\"], length=55)\n",
        "    dataset['sma13']=ta.sma(dataset[\"close\"], length=13)\n",
        "    dataset['sma21']=ta.sma(dataset[\"close\"], length=21)\n",
        "    dataset['sma34']=ta.sma(dataset[\"close\"], length=34)\n",
        "    dataset['sma55']=ta.sma(dataset[\"close\"], length=55)    \n",
        "    dataset['sma89']=ta.sma(dataset[\"close\"], length=89)    \n",
        "    dataset['sma144']=ta.sma(dataset[\"close\"], length=144)    \n",
        "    dataset['sma233']=ta.sma(dataset[\"close\"], length=233)\n",
        "    return dataset"
      ],
      "metadata": {
        "id": "xJzkXjqINNRM"
      },
      "execution_count": 3,
      "outputs": []
    },
    {
      "cell_type": "code",
      "source": [
        "def colum_drop(result):\n",
        "    column_drop=['tick_volume','spread','volume',\"TP\",\"SL\",\"Date\",\"Time\",\"time\"]\n",
        "    column_drop_real=[]\n",
        "    for i in result.columns:#[5:]:\n",
        "        for j in column_drop:\n",
        "            if j in str(i):\n",
        "                column_drop_real.append(i)\n",
        "    result=result.drop(columns= column_drop_real)\n",
        "    '''\n",
        "    for i in result.columns:\n",
        "        if 'time' in str(i):\n",
        "            result.rename(columns={i: 'time'},inplace=True)\n",
        "    '''        \n",
        "    return result  "
      ],
      "metadata": {
        "id": "NksH2xi8NPDD"
      },
      "execution_count": 5,
      "outputs": []
    },
    {
      "cell_type": "code",
      "source": [
        "def Buy_posit(rates_frame,windows,thread=35,xTP=3,xSL=2,TradeOnExtrem=True):\n",
        "    rates_frame.dropna(inplace=True)\n",
        "    Buy = list(0 for i in range(0,windows))\n",
        "    SL_pos=list(0 for i in range(0,windows))\n",
        "    TP_pos=list(0 for i in range(0,windows))\n",
        "    for i in range(windows,len(rates_frame)-1):\n",
        "        k=1\n",
        "        SL=0;TP=0;\n",
        "        atr=rates_frame['atr'].iloc[i]\n",
        "        curent_pr_close=rates_frame.close.iloc[i]\n",
        "        curent_pr_low=rates_frame['low'].iloc[i]\n",
        "        min_lastPeriod=min(rates_frame.low.iloc[i-windows:i])\n",
        "        if (curent_pr_low-min_lastPeriod)<atr or TradeOnExtrem:\n",
        "            SL=curent_pr_low-atr*xSL\n",
        "        elif curent_pr_low-min_lastPeriod<5*atr:\n",
        "            SL=min_lastPeriod-atr*0.5\n",
        "        else:\n",
        "            SL=0\n",
        "        if (rates_frame['RSI(14)'].iloc[i]<thread) and SL!=0:\n",
        "            TP=curent_pr_close*(xTP+1)-SL*xTP\n",
        "            in_position=True\n",
        "            SL_pos.append(SL)\n",
        "            TP_pos.append(TP)\n",
        "        else:\n",
        "            in_position=False\n",
        "            SL_pos.append(0)\n",
        "            TP_pos.append(0)\n",
        "            Buy.append(0)\n",
        "        \n",
        "        while in_position:\n",
        "            looping_low=rates_frame.low.iloc[i+k]\n",
        "            looping_high=rates_frame.high.iloc[i+k]\n",
        "            if looping_high>TP:\n",
        "                Buy.append(1)\n",
        "                in_position=False\n",
        "            elif looping_low<SL:\n",
        "                Buy.append(0)\n",
        "                in_position=False\n",
        "            elif (k+i+1)==len(rates_frame):\n",
        "                Buy.append(0)\n",
        "                in_position=False\n",
        "            k+=1; \n",
        "    Buy.append(0)        \n",
        "    SL_pos.append(0)\n",
        "    TP_pos.append(0)    \n",
        "    rates_frame['Buy'] = pd.Series(Buy).values\n",
        "    rates_frame['SL_pos'] = pd.Series(SL_pos).values\n",
        "    rates_frame['TP_pos'] = pd.Series(TP_pos).values\n",
        "    return rates_frame\n",
        "def Sell_posit(rates_frame,windows,thread=65,xTP=3,xSL=2,TradeOnExtrem=True):\n",
        "    rates_frame.dropna(inplace=True)\n",
        "    Sell = list(0 for i in range(0,windows))\n",
        "    SL_pos=list(0 for i in range(0,windows))\n",
        "    TP_pos=list(0 for i in range(0,windows))\n",
        "    for i in range(windows,len(rates_frame)-1):\n",
        "        k=1\n",
        "        SL=0;TP=0;\n",
        "        atr=rates_frame['atr'].iloc[i]\n",
        "        curent_pr_close=rates_frame.close.iloc[i]\n",
        "        curent_pr_high=rates_frame['high'].iloc[i]\n",
        "        max_lastPeriod=max(rates_frame.high.iloc[i-windows:i])\n",
        "        if (max_lastPeriod-curent_pr_high)<atr or TradeOnExtrem:\n",
        "            SL=curent_pr_high+atr*xSL\n",
        "        elif (max_lastPeriod-curent_pr_high)>atr and (max_lastPeriod-curent_pr_high)<5*atr:\n",
        "            SL=max_lastPeriod+atr*0.5\n",
        "        else:\n",
        "            SL=0\n",
        "        if (rates_frame['RSI(14)'].iloc[i]>thread) and SL!=0:\n",
        "            TP=curent_pr_close-(SL-curent_pr_close)*xTP\n",
        "            in_position=True\n",
        "            SL_pos.append(SL)\n",
        "            TP_pos.append(TP)\n",
        "        else:\n",
        "            in_position=False\n",
        "            SL_pos.append(0)\n",
        "            TP_pos.append(0)\n",
        "            Sell.append(0)\n",
        "        while in_position:\n",
        "            looping_low=rates_frame.low.iloc[i+k]\n",
        "            looping_high=rates_frame.high.iloc[i+k]\n",
        "            if looping_low<TP:\n",
        "                Sell.append(1)\n",
        "                in_position=False\n",
        "            elif looping_high>SL:\n",
        "                Sell.append(0)\n",
        "                in_position=False\n",
        "            elif (k+i+1)==len(rates_frame):\n",
        "                Sell.append(0)\n",
        "                in_position=False\n",
        "            k+=1;\n",
        "    Sell.append(0)        \n",
        "    SL_pos.append(0)\n",
        "    TP_pos.append(0)    \n",
        "    rates_frame['Sell'] = pd.Series(Sell).values\n",
        "    rates_frame['SL_pos'] = pd.Series(SL_pos).values\n",
        "    rates_frame['TP_pos'] = pd.Series(TP_pos).values\n",
        "    return rates_frame"
      ],
      "metadata": {
        "id": "emhjXNd9NQxb"
      },
      "execution_count": 4,
      "outputs": []
    },
    {
      "cell_type": "code",
      "source": [
        "GOLD=add_Indicators_FIBO(GOLD)\n",
        "GOLD_buy=Buy_posit(GOLD.copy(),windows=80,thread=35,xTP=4,TradeOnExtrem=True)\n",
        "GOLD_sell=Sell_posit(GOLD.copy(),windows=80,thread=65,xTP=4,TradeOnExtrem=True)"
      ],
      "metadata": {
        "id": "doe1y3WoNGmr"
      },
      "execution_count": 6,
      "outputs": []
    },
    {
      "cell_type": "code",
      "source": [
        "def prepare_dataset(dataset,window=80,Prc_br=0.8):\n",
        "    from sklearn.preprocessing import MinMaxScaler\n",
        "    dataset=colum_drop(dataset.copy())\n",
        "    target=['Buy','Sell','BUY','SELL']\n",
        "    for i in dataset.columns:\n",
        "        if i in target[0] or i in target[1] or i in target[2] or i in target[3]:\n",
        "            targ_Act=i\n",
        "                \n",
        "    X_values=dataset.drop(columns=targ_Act).values\n",
        "    Y_values=dataset[targ_Act].values    \n",
        "    training_data_len = int(np.ceil( len(dataset) * Prc_br))\n",
        "    scaler = MinMaxScaler()\n",
        "    scaled_data = scaler.fit_transform(X_values)\n",
        "    # Create the training data set \n",
        "    # Create the scaled training data set\n",
        "    train_data = scaled_data[0:int(training_data_len), :]\n",
        "    # Split the data into x_train and y_train data sets\n",
        "    x_train = []\n",
        "    y_train = []\n",
        "\n",
        "    for i in range(window, len(train_data)):\n",
        "        x_train.append(train_data[i-window:i])\n",
        "        y_train.append(Y_values[i])\n",
        "    # Convert the x_train and y_train to numpy arrays \n",
        "    x_train, y_train = np.array(x_train), np.array(y_train)\n",
        "    \n",
        "    # Reshape the data\n",
        "  #  x_train = np.reshape(x_train, (x_train.shape[0], x_train.shape[1], 1))\n",
        "\n",
        "    # Create the testing data set\n",
        "    test_data = scaled_data[training_data_len - window: , :]\n",
        "    # Create the data sets x_test and y_test\n",
        "    x_test = []\n",
        "    y_test = Y_values[training_data_len:]\n",
        "    for i in range(window, len(test_data)):\n",
        "        x_test.append(test_data[i-window:i])\n",
        "    # Convert the data to a numpy array\n",
        "    x_test, y_test = np.array(x_test), np.array(y_test)\n",
        "    # Reshape the data\n",
        "    #x_test = np.reshape(x_test, (x_test.shape[0], x_test.shape[1], 1 ))\n",
        "    return x_train, y_train, x_test, y_test, scaler\n",
        "    #return x_test, y_test\n",
        "    #x_train, y_train   , x_test, y_test    "
      ],
      "metadata": {
        "id": "3nIzCPBjNV5b"
      },
      "execution_count": 7,
      "outputs": []
    },
    {
      "cell_type": "code",
      "source": [
        "x_train, y_train, x_test, y_test, scaler=prepare_dataset(GOLD_buy,window=90,Prc_br=0.85)"
      ],
      "metadata": {
        "id": "y3iDJLEbNeoj"
      },
      "execution_count": 8,
      "outputs": []
    },
    {
      "cell_type": "code",
      "source": [
        "from keras.models import Sequential\n",
        "from keras.layers import Dense, LSTM\n",
        "from sklearn.utils import class_weight\n",
        "import keras\n",
        "from tensorflow import keras\n",
        "from tensorflow.keras.layers import Dropout\n",
        "#checkpoint_filepath = 'C:\\\\Users\\\\nitza\\\\Desktop\\\\Kaggle\\\\Trading\\\\for_send\\\\GOLD\\\\'\n",
        "#dump(sc, checkpoint_filepath+'GOLD_scaler.bin', compress=True)\n",
        "\n",
        "model_checkpoint_callback = keras.callbacks.ModelCheckpoint(\n",
        "    filepath='./',\n",
        "    save_weights_only=True,\n",
        "    monitor='val_precision',#val_precision\n",
        "    mode='max',\n",
        "    save_best_only=True)\n",
        "\n",
        "class_weights1 = class_weight.compute_class_weight('balanced',\n",
        "                                                 classes=np.unique(y_train),\n",
        "                                                 y=y_train)\n",
        "# Build the LSTM model\n",
        "model = Sequential()\n",
        "model.add(LSTM(32, return_sequences=False, input_shape= (x_train.shape[1], x_train.shape[2])))\n",
        "#model.add(Dropout(0.5))\n",
        "#model.add(LSTM(10, return_sequences=False))\n",
        "#model.add(Dense(32))\n",
        "#model.add(LSTM(64, return_sequences=False))\n",
        "#model.add(Dense(250, activation='LeakyReLU'))\n",
        "#model.add(Dropout(0.6))\n",
        "#model.add(Dense(150, activation='LeakyReLU'))\n",
        "#model.add(Dense(32, activation='LeakyReLU'))\n",
        "model.add(Dense(1, activation='sigmoid'))\n",
        "opt = keras.optimizers.Adam()#learning_rate=0.001\n",
        "# Compile the model\n",
        "model.compile(optimizer=opt, loss=keras.losses.BinaryCrossentropy(),  #loss= keras.losses.CategoricalCrossentropy(),# 'mse', \n",
        "      metrics=[keras.metrics.Precision(name='precision'),keras.metrics.RecallAtPrecision(0.90),keras.metrics.TruePositives(thresholds=0.01)])#thresholds=0.01      [keras.metrics.TruePositives(thresholds=0.1)]\n",
        "\n",
        "# Train the model  callbacks=[model_checkpoint_callback]\n",
        "model.fit(x_train, y_train, epochs=30,callbacks=[model_checkpoint_callback],class_weight = {0: class_weights1[0],1:class_weights1[1] },shuffle=False,validation_data=(x_test, y_test))"
      ],
      "metadata": {
        "colab": {
          "base_uri": "https://localhost:8080/"
        },
        "id": "VjpJjdFTPUAN",
        "outputId": "d86d0369-8b58-4a06-879f-5994a8c78fbf"
      },
      "execution_count": 15,
      "outputs": [
        {
          "output_type": "stream",
          "name": "stdout",
          "text": [
            "Epoch 1/30\n",
            "4221/4221 [==============================] - 39s 9ms/step - loss: 0.4405 - precision: 0.0743 - recall_at_precision_2: 0.0000e+00 - true_positives_2: 2984.0000 - val_loss: 0.4340 - val_precision: 0.0736 - val_recall_at_precision_2: 0.0043 - val_true_positives_2: 465.0000\n",
            "Epoch 2/30\n",
            "4221/4221 [==============================] - 36s 8ms/step - loss: 0.3600 - precision: 0.0924 - recall_at_precision_2: 0.0000e+00 - true_positives_2: 2983.0000 - val_loss: 0.4052 - val_precision: 0.0796 - val_recall_at_precision_2: 0.0000e+00 - val_true_positives_2: 464.0000\n",
            "Epoch 3/30\n",
            "4221/4221 [==============================] - 36s 8ms/step - loss: 0.3412 - precision: 0.0981 - recall_at_precision_2: 0.0000e+00 - true_positives_2: 2982.0000 - val_loss: 0.3773 - val_precision: 0.0830 - val_recall_at_precision_2: 0.0000e+00 - val_true_positives_2: 463.0000\n",
            "Epoch 4/30\n",
            "4221/4221 [==============================] - 36s 8ms/step - loss: 0.3319 - precision: 0.1000 - recall_at_precision_2: 0.0000e+00 - true_positives_2: 2980.0000 - val_loss: 0.3696 - val_precision: 0.0843 - val_recall_at_precision_2: 0.0022 - val_true_positives_2: 463.0000\n",
            "Epoch 5/30\n",
            "4221/4221 [==============================] - 36s 8ms/step - loss: 0.3258 - precision: 0.1016 - recall_at_precision_2: 0.0000e+00 - true_positives_2: 2980.0000 - val_loss: 0.3611 - val_precision: 0.0875 - val_recall_at_precision_2: 0.0000e+00 - val_true_positives_2: 462.0000\n",
            "Epoch 6/30\n",
            "4221/4221 [==============================] - 36s 8ms/step - loss: 0.3218 - precision: 0.1036 - recall_at_precision_2: 0.0000e+00 - true_positives_2: 2977.0000 - val_loss: 0.3548 - val_precision: 0.0893 - val_recall_at_precision_2: 0.0000e+00 - val_true_positives_2: 462.0000\n",
            "Epoch 7/30\n",
            "4221/4221 [==============================] - 36s 8ms/step - loss: 0.3183 - precision: 0.1047 - recall_at_precision_2: 0.0000e+00 - true_positives_2: 2976.0000 - val_loss: 0.3576 - val_precision: 0.0902 - val_recall_at_precision_2: 0.0000e+00 - val_true_positives_2: 462.0000\n",
            "Epoch 8/30\n",
            "4221/4221 [==============================] - 36s 8ms/step - loss: 0.3153 - precision: 0.1056 - recall_at_precision_2: 0.0000e+00 - true_positives_2: 2976.0000 - val_loss: 0.3569 - val_precision: 0.0913 - val_recall_at_precision_2: 0.0000e+00 - val_true_positives_2: 462.0000\n",
            "Epoch 9/30\n",
            "4221/4221 [==============================] - 36s 8ms/step - loss: 0.3133 - precision: 0.1068 - recall_at_precision_2: 0.0000e+00 - true_positives_2: 2977.0000 - val_loss: 0.3574 - val_precision: 0.0911 - val_recall_at_precision_2: 0.0000e+00 - val_true_positives_2: 462.0000\n",
            "Epoch 10/30\n",
            "4221/4221 [==============================] - 36s 8ms/step - loss: 0.3115 - precision: 0.1073 - recall_at_precision_2: 0.0000e+00 - true_positives_2: 2979.0000 - val_loss: 0.3600 - val_precision: 0.0911 - val_recall_at_precision_2: 0.0000e+00 - val_true_positives_2: 462.0000\n",
            "Epoch 11/30\n",
            "4221/4221 [==============================] - 36s 9ms/step - loss: 0.3099 - precision: 0.1080 - recall_at_precision_2: 0.0000e+00 - true_positives_2: 2978.0000 - val_loss: 0.3639 - val_precision: 0.0907 - val_recall_at_precision_2: 0.0000e+00 - val_true_positives_2: 462.0000\n",
            "Epoch 12/30\n",
            "4221/4221 [==============================] - 36s 8ms/step - loss: 0.3086 - precision: 0.1088 - recall_at_precision_2: 0.0000e+00 - true_positives_2: 2977.0000 - val_loss: 0.3697 - val_precision: 0.0906 - val_recall_at_precision_2: 0.0000e+00 - val_true_positives_2: 462.0000\n",
            "Epoch 13/30\n",
            "4221/4221 [==============================] - 38s 9ms/step - loss: 0.3074 - precision: 0.1092 - recall_at_precision_2: 0.0000e+00 - true_positives_2: 2977.0000 - val_loss: 0.3723 - val_precision: 0.0907 - val_recall_at_precision_2: 0.0000e+00 - val_true_positives_2: 462.0000\n",
            "Epoch 14/30\n",
            "4221/4221 [==============================] - 36s 9ms/step - loss: 0.3064 - precision: 0.1096 - recall_at_precision_2: 0.0000e+00 - true_positives_2: 2977.0000 - val_loss: 0.3786 - val_precision: 0.0905 - val_recall_at_precision_2: 0.0000e+00 - val_true_positives_2: 462.0000\n",
            "Epoch 15/30\n",
            "4221/4221 [==============================] - 36s 9ms/step - loss: 0.3055 - precision: 0.1101 - recall_at_precision_2: 0.0000e+00 - true_positives_2: 2977.0000 - val_loss: 0.3854 - val_precision: 0.0900 - val_recall_at_precision_2: 0.0000e+00 - val_true_positives_2: 462.0000\n",
            "Epoch 16/30\n",
            "4221/4221 [==============================] - 36s 8ms/step - loss: 0.3046 - precision: 0.1104 - recall_at_precision_2: 0.0000e+00 - true_positives_2: 2977.0000 - val_loss: 0.3898 - val_precision: 0.0893 - val_recall_at_precision_2: 0.0000e+00 - val_true_positives_2: 462.0000\n",
            "Epoch 17/30\n",
            "4221/4221 [==============================] - 36s 9ms/step - loss: 0.3036 - precision: 0.1109 - recall_at_precision_2: 0.0000e+00 - true_positives_2: 2977.0000 - val_loss: 0.3918 - val_precision: 0.0892 - val_recall_at_precision_2: 0.0000e+00 - val_true_positives_2: 462.0000\n",
            "Epoch 18/30\n",
            "4221/4221 [==============================] - 36s 8ms/step - loss: 0.3034 - precision: 0.1114 - recall_at_precision_2: 0.0000e+00 - true_positives_2: 2977.0000 - val_loss: 0.3923 - val_precision: 0.0888 - val_recall_at_precision_2: 0.0000e+00 - val_true_positives_2: 462.0000\n",
            "Epoch 19/30\n",
            "4221/4221 [==============================] - 36s 8ms/step - loss: 0.3025 - precision: 0.1116 - recall_at_precision_2: 0.0000e+00 - true_positives_2: 2978.0000 - val_loss: 0.3938 - val_precision: 0.0882 - val_recall_at_precision_2: 0.0000e+00 - val_true_positives_2: 462.0000\n",
            "Epoch 20/30\n",
            "4221/4221 [==============================] - 35s 8ms/step - loss: 0.3022 - precision: 0.1119 - recall_at_precision_2: 0.0000e+00 - true_positives_2: 2977.0000 - val_loss: 0.4001 - val_precision: 0.0873 - val_recall_at_precision_2: 0.0000e+00 - val_true_positives_2: 463.0000\n",
            "Epoch 21/30\n",
            "4221/4221 [==============================] - 35s 8ms/step - loss: 0.3015 - precision: 0.1122 - recall_at_precision_2: 0.0000e+00 - true_positives_2: 2978.0000 - val_loss: 0.3988 - val_precision: 0.0878 - val_recall_at_precision_2: 0.0000e+00 - val_true_positives_2: 463.0000\n",
            "Epoch 22/30\n",
            "4221/4221 [==============================] - 35s 8ms/step - loss: 0.3016 - precision: 0.1123 - recall_at_precision_2: 0.0000e+00 - true_positives_2: 2977.0000 - val_loss: 0.4003 - val_precision: 0.0875 - val_recall_at_precision_2: 0.0000e+00 - val_true_positives_2: 463.0000\n",
            "Epoch 23/30\n",
            "4221/4221 [==============================] - 35s 8ms/step - loss: 0.3016 - precision: 0.1121 - recall_at_precision_2: 0.0000e+00 - true_positives_2: 2977.0000 - val_loss: 0.3972 - val_precision: 0.0874 - val_recall_at_precision_2: 0.0000e+00 - val_true_positives_2: 463.0000\n",
            "Epoch 24/30\n",
            "4221/4221 [==============================] - 36s 8ms/step - loss: 0.3009 - precision: 0.1129 - recall_at_precision_2: 0.0000e+00 - true_positives_2: 2978.0000 - val_loss: 0.4013 - val_precision: 0.0870 - val_recall_at_precision_2: 0.0000e+00 - val_true_positives_2: 463.0000\n",
            "Epoch 25/30\n",
            "4221/4221 [==============================] - 36s 8ms/step - loss: 0.3014 - precision: 0.1125 - recall_at_precision_2: 0.0000e+00 - true_positives_2: 2977.0000 - val_loss: 0.4089 - val_precision: 0.0857 - val_recall_at_precision_2: 0.0000e+00 - val_true_positives_2: 463.0000\n",
            "Epoch 26/30\n",
            "4221/4221 [==============================] - 35s 8ms/step - loss: 0.2995 - precision: 0.1130 - recall_at_precision_2: 0.0000e+00 - true_positives_2: 2977.0000 - val_loss: 0.3884 - val_precision: 0.0897 - val_recall_at_precision_2: 0.0000e+00 - val_true_positives_2: 463.0000\n",
            "Epoch 27/30\n",
            "4221/4221 [==============================] - 36s 8ms/step - loss: 0.2991 - precision: 0.1131 - recall_at_precision_2: 0.0000e+00 - true_positives_2: 2977.0000 - val_loss: 0.3997 - val_precision: 0.0867 - val_recall_at_precision_2: 0.0000e+00 - val_true_positives_2: 463.0000\n",
            "Epoch 28/30\n",
            "4221/4221 [==============================] - 36s 9ms/step - loss: 0.3015 - precision: 0.1128 - recall_at_precision_2: 0.0000e+00 - true_positives_2: 2977.0000 - val_loss: 0.3933 - val_precision: 0.0888 - val_recall_at_precision_2: 0.0000e+00 - val_true_positives_2: 463.0000\n",
            "Epoch 29/30\n",
            "4221/4221 [==============================] - 36s 9ms/step - loss: 0.2998 - precision: 0.1122 - recall_at_precision_2: 0.0000e+00 - true_positives_2: 2977.0000 - val_loss: 0.4128 - val_precision: 0.0879 - val_recall_at_precision_2: 0.0000e+00 - val_true_positives_2: 464.0000\n",
            "Epoch 30/30\n",
            "4221/4221 [==============================] - 36s 9ms/step - loss: 0.2986 - precision: 0.1128 - recall_at_precision_2: 0.0000e+00 - true_positives_2: 2976.0000 - val_loss: 0.3988 - val_precision: 0.0910 - val_recall_at_precision_2: 0.0000e+00 - val_true_positives_2: 463.0000\n"
          ]
        },
        {
          "output_type": "execute_result",
          "data": {
            "text/plain": [
              "<keras.callbacks.History at 0x7fb5c0347810>"
            ]
          },
          "metadata": {},
          "execution_count": 15
        }
      ]
    },
    {
      "cell_type": "code",
      "source": [
        "model.fit(x_train, y_train, epochs=10,callbacks=[model_checkpoint_callback],class_weight = {0: class_weights1[0],1:class_weights1[1] },shuffle=False,validation_data=(x_test, y_test))"
      ],
      "metadata": {
        "id": "eLmkMmhnTNX2",
        "outputId": "f1d41486-9177-48ba-cc44-ada2d31ca962",
        "colab": {
          "base_uri": "https://localhost:8080/"
        }
      },
      "execution_count": 11,
      "outputs": [
        {
          "output_type": "stream",
          "name": "stdout",
          "text": [
            "Epoch 1/10\n",
            "4221/4221 [==============================] - 53s 13ms/step - loss: 0.3258 - precision: 0.1019 - recall_at_precision: 0.0000e+00 - true_positives: 2978.0000 - val_loss: 0.3472 - val_precision: 0.0893 - val_recall_at_precision: 0.0000e+00 - val_true_positives: 462.0000\n",
            "Epoch 2/10\n",
            "4221/4221 [==============================] - 51s 12ms/step - loss: 0.3227 - precision: 0.1023 - recall_at_precision: 0.0000e+00 - true_positives: 2978.0000 - val_loss: 0.3559 - val_precision: 0.0876 - val_recall_at_precision: 0.0000e+00 - val_true_positives: 462.0000\n",
            "Epoch 3/10\n",
            "4221/4221 [==============================] - 55s 13ms/step - loss: 0.3230 - precision: 0.1021 - recall_at_precision: 0.0000e+00 - true_positives: 2979.0000 - val_loss: 0.3471 - val_precision: 0.0902 - val_recall_at_precision: 0.0000e+00 - val_true_positives: 462.0000\n",
            "Epoch 4/10\n",
            "4221/4221 [==============================] - 52s 12ms/step - loss: 0.3203 - precision: 0.1042 - recall_at_precision: 0.0000e+00 - true_positives: 2978.0000 - val_loss: 0.3581 - val_precision: 0.0882 - val_recall_at_precision: 0.0000e+00 - val_true_positives: 462.0000\n",
            "Epoch 5/10\n",
            "4221/4221 [==============================] - 51s 12ms/step - loss: 0.3207 - precision: 0.1038 - recall_at_precision: 0.0000e+00 - true_positives: 2978.0000 - val_loss: 0.3526 - val_precision: 0.0904 - val_recall_at_precision: 0.0000e+00 - val_true_positives: 462.0000\n",
            "Epoch 6/10\n",
            "4221/4221 [==============================] - 51s 12ms/step - loss: 0.3148 - precision: 0.1054 - recall_at_precision: 0.0000e+00 - true_positives: 2980.0000 - val_loss: 0.3538 - val_precision: 0.0921 - val_recall_at_precision: 0.0000e+00 - val_true_positives: 462.0000\n",
            "Epoch 7/10\n",
            "4221/4221 [==============================] - 51s 12ms/step - loss: 0.3158 - precision: 0.1058 - recall_at_precision: 0.0000e+00 - true_positives: 2978.0000 - val_loss: 0.3723 - val_precision: 0.0876 - val_recall_at_precision: 0.0000e+00 - val_true_positives: 463.0000\n",
            "Epoch 8/10\n",
            "4221/4221 [==============================] - 50s 12ms/step - loss: 0.3180 - precision: 0.1056 - recall_at_precision: 0.0000e+00 - true_positives: 2978.0000 - val_loss: 0.3515 - val_precision: 0.0925 - val_recall_at_precision: 0.0000e+00 - val_true_positives: 463.0000\n",
            "Epoch 9/10\n",
            "4221/4221 [==============================] - 51s 12ms/step - loss: 0.3154 - precision: 0.1062 - recall_at_precision: 0.0000e+00 - true_positives: 2978.0000 - val_loss: 0.3603 - val_precision: 0.0908 - val_recall_at_precision: 0.0000e+00 - val_true_positives: 462.0000\n",
            "Epoch 10/10\n",
            "4221/4221 [==============================] - 51s 12ms/step - loss: 0.3156 - precision: 0.1057 - recall_at_precision: 0.0000e+00 - true_positives: 2979.0000 - val_loss: 0.3740 - val_precision: 0.0870 - val_recall_at_precision: 0.0000e+00 - val_true_positives: 463.0000\n"
          ]
        },
        {
          "output_type": "execute_result",
          "data": {
            "text/plain": [
              "<keras.callbacks.History at 0x7fb6b3101310>"
            ]
          },
          "metadata": {},
          "execution_count": 11
        }
      ]
    },
    {
      "cell_type": "code",
      "source": [
        "model.fit(x_train, y_train, epochs=10,callbacks=[model_checkpoint_callback],class_weight = {0: class_weights1[0],1:class_weights1[1] },shuffle=False,validation_data=(x_test, y_test))"
      ],
      "metadata": {
        "id": "pC1nw-PIhY-5"
      },
      "execution_count": null,
      "outputs": []
    },
    {
      "cell_type": "code",
      "source": [
        "model.load_weights('./')\n",
        "train_test=[model.predict(x_train),model.predict(x_test)]\n",
        "thread=0.9\n",
        "predictTes=pd.DataFrame(data=np.column_stack((y_test,train_test[1])),columns=['test','predict'])\n",
        "predictTra=pd.DataFrame(data=np.column_stack((y_train,train_test[0])),columns=['train','predict'])\n",
        "\n",
        "predictTes['new']=(predictTes['predict']>thread).astype(int)\n",
        "predictTes['diff']=predictTes.test-predictTes.new\n",
        "loss=predictTes[predictTes['diff']==-1].shape[0]\n",
        "trades=predictTes[predictTes['new']==1].shape[0]\n",
        "\n",
        "predictTra['new']=(predictTra['predict']>thread).astype(int)\n",
        "predictTra['diff']=predictTra.train-predictTra.new\n",
        "lossTr=predictTra[predictTra['diff']==-1].shape[0]\n",
        "tradesTr=predictTra[predictTra['new']==1].shape[0]\n",
        "\n",
        "\n",
        "print(\"tradesTr\",tradesTr)\n",
        "print(\"predict_losTrain\", lossTr)\n",
        "print(\"predict_Train Win\", tradesTr-lossTr)\n",
        "try:\n",
        "    print(\"rate_of_win_trades,train\",(tradesTr-lossTr)/tradesTr )\n",
        "#      Bach_size_dict[i]=((trades-loss)/trades);  \n",
        "except:\n",
        "    print(\"rate_of_win_tradesTr=0\")\n",
        "print(\"tradesTest\",trades)\n",
        "print(\"predict_losTest\", loss)\n",
        "print(\"predict_Win\",trades-loss )\n",
        "try:\n",
        "    proc_test=(trades-loss)/trades\n",
        "    print(\"rate_of_win_trades,test\",(trades-loss)/trades )\n",
        "#    Bach_size_dict[i]=((trades-loss)/trades);\n",
        "except:\n",
        "    print(\"rate_of_win_tradesTest=0\")\n",
        "scoreTmp= (trades-loss)*3-loss\n",
        "\n"
      ],
      "metadata": {
        "colab": {
          "base_uri": "https://localhost:8080/"
        },
        "id": "04NFy3XvRpKG",
        "outputId": "12285795-52c5-4f58-cc42-b29cd9f4552b"
      },
      "execution_count": 16,
      "outputs": [
        {
          "output_type": "stream",
          "name": "stdout",
          "text": [
            "tradesTr 819\n",
            "predict_losTrain 611\n",
            "predict_Train Win 208\n",
            "rate_of_win_trades,train 0.25396825396825395\n",
            "tradesTest 837\n",
            "predict_losTest 678\n",
            "predict_Win 159\n",
            "rate_of_win_trades,test 0.18996415770609318\n"
          ]
        }
      ]
    },
    {
      "cell_type": "code",
      "source": [
        "model.save('BRENT_LSTM_buy.h5')"
      ],
      "metadata": {
        "id": "BuNWUW5Mj8bD"
      },
      "execution_count": 18,
      "outputs": []
    },
    {
      "cell_type": "code",
      "source": [
        "from joblib import dump, load\n",
        "# save  >0.98\n",
        "checkpoint_filepath='./'\n",
        "#dump(clf_4,checkpoint_filepath+ \"GOLD_S_RF.joblib\", compress=0)\n",
        "#dump(model,checkpoint_filepath +\"USDJPY_S_XGB.joblib\", compress=0)\n",
        "dump(scaler, checkpoint_filepath+'SP500_LSTM_scaler.bin', compress=0)"
      ],
      "metadata": {
        "colab": {
          "base_uri": "https://localhost:8080/"
        },
        "id": "qlMohV2nnT64",
        "outputId": "93ee352f-79d4-478c-9128-d4734b847c3e"
      },
      "execution_count": 14,
      "outputs": [
        {
          "output_type": "execute_result",
          "data": {
            "text/plain": [
              "['./SP500_LSTM_scaler.bin']"
            ]
          },
          "metadata": {},
          "execution_count": 14
        }
      ]
    },
    {
      "cell_type": "code",
      "source": [
        "'''\n",
        "Buy\n",
        "tradesTr 390\n",
        "predict_losTrain 287\n",
        "predict_Train Win 103\n",
        "rate_of_win_trades,train 0.2641025641025641\n",
        "tradesTest 545\n",
        "predict_losTest 445\n",
        "predict_Win 100\n",
        "rate_of_win_trades,test 0.1834862385321101\n",
        "\n",
        "tradesTr 208\n",
        "predict_losTrain 155\n",
        "predict_Train Win 53\n",
        "rate_of_win_trades,train 0.2548076923076923\n",
        "tradesTest 343\n",
        "predict_losTest 283\n",
        "predict_Win 60\n",
        "rate_of_win_trades,test 0.1749271137026239\n",
        "\n",
        "tradesTr 384\n",
        "predict_losTrain 291\n",
        "predict_Train Win 93\n",
        "rate_of_win_trades,train 0.2421875\n",
        "tradesTest 434\n",
        "predict_losTest 340\n",
        "predict_Win 94\n",
        "rate_of_win_trades,test 0.21658986175115208\n",
        "'''"
      ],
      "metadata": {
        "id": "xlVqjAQ-UjPH"
      },
      "execution_count": null,
      "outputs": []
    },
    {
      "cell_type": "code",
      "source": [
        "from keras.models import Sequential\n",
        "from keras.layers import Dense, LSTM\n",
        "from sklearn.utils import class_weight\n",
        "import keras\n",
        "from tensorflow import keras\n",
        "from tensorflow.keras.layers import Dropout\n",
        "#checkpoint_filepath = 'C:\\\\Users\\\\nitza\\\\Desktop\\\\Kaggle\\\\Trading\\\\for_send\\\\GOLD\\\\'\n",
        "#dump(sc, checkpoint_filepath+'GOLD_scaler.bin', compress=True)\n",
        "\n",
        "model_checkpoint_callback = keras.callbacks.ModelCheckpoint(\n",
        "    filepath='./',\n",
        "    save_weights_only=True,\n",
        "    monitor='val_precision',#val_precision\n",
        "    mode='max',\n",
        "    save_best_only=True)\n",
        "\n",
        "class_weights1 = class_weight.compute_class_weight('balanced',\n",
        "                                                 classes=np.unique(y_train),\n",
        "                                                 y=y_train)\n",
        "# Build the LSTM model\n",
        "model = Sequential()\n",
        "model.add(LSTM(10, return_sequences=False, input_shape= (x_train.shape[1], x_train.shape[2])))\n",
        "#model.add(LSTM(64, return_sequences=False))\n",
        "#model.add(Dense(250, activation='LeakyReLU'))\n",
        "model.add(Dropout(0.4))\n",
        "#model.add(Dense(150, activation='LeakyReLU'))\n",
        "model.add(Dense(32, activation='LeakyReLU'))\n",
        "model.add(Dense(1, activation='sigmoid'))\n",
        "opt = keras.optimizers.Adam()#learning_rate=0.001\n",
        "# Compile the model\n",
        "model.compile(optimizer=opt, loss=keras.losses.BinaryCrossentropy(),  #loss= keras.losses.CategoricalCrossentropy(),# 'mse', \n",
        "      metrics=[keras.metrics.Precision(name='precision'),keras.metrics.RecallAtPrecision(0.90),keras.metrics.TruePositives(thresholds=0.01)])#thresholds=0.01      [keras.metrics.TruePositives(thresholds=0.1)]\n",
        "callback = keras.callbacks.EarlyStopping(monitor='val_precision', patience=3) #+str(counter)\n",
        "# Train the model  callbacks=[model_checkpoint_callback]\n",
        "model.fit(x_train, y_train, epochs=20,callbacks=[callback,model_checkpoint_callback],class_weight = {0: class_weights1[0],1:class_weights1[1] },shuffle=False,validation_data=(x_test, y_test))"
      ],
      "metadata": {
        "colab": {
          "base_uri": "https://localhost:8080/"
        },
        "id": "4WxfKGEqyzPZ",
        "outputId": "f9ef1453-5727-4062-8006-64fd1902c93e"
      },
      "execution_count": 12,
      "outputs": [
        {
          "output_type": "stream",
          "name": "stdout",
          "text": [
            "Epoch 1/20\n",
            "3972/3972 [==============================] - 43s 9ms/step - loss: 0.4497 - precision: 0.0757 - recall_at_precision: 0.0000e+00 - true_positives: 2817.0000 - val_loss: 0.5942 - val_precision: 0.0563 - val_recall_at_precision: 0.0000e+00 - val_true_positives: 629.0000\n",
            "Epoch 2/20\n",
            "3972/3972 [==============================] - 37s 9ms/step - loss: 0.3829 - precision: 0.0861 - recall_at_precision: 0.0000e+00 - true_positives: 2813.0000 - val_loss: 0.3937 - val_precision: 0.0785 - val_recall_at_precision: 0.0000e+00 - val_true_positives: 626.0000\n",
            "Epoch 3/20\n",
            "3972/3972 [==============================] - 46s 12ms/step - loss: 0.3641 - precision: 0.0912 - recall_at_precision: 0.0000e+00 - true_positives: 2812.0000 - val_loss: 0.3975 - val_precision: 0.0761 - val_recall_at_precision: 0.0000e+00 - val_true_positives: 625.0000\n",
            "Epoch 4/20\n",
            "3972/3972 [==============================] - 38s 10ms/step - loss: 0.3486 - precision: 0.0953 - recall_at_precision: 0.0000e+00 - true_positives: 2811.0000 - val_loss: 0.3788 - val_precision: 0.0814 - val_recall_at_precision: 0.0000e+00 - val_true_positives: 625.0000\n",
            "Epoch 5/20\n",
            "3972/3972 [==============================] - 36s 9ms/step - loss: 0.3411 - precision: 0.0975 - recall_at_precision: 0.0000e+00 - true_positives: 2812.0000 - val_loss: 0.4047 - val_precision: 0.0771 - val_recall_at_precision: 0.0000e+00 - val_true_positives: 625.0000\n",
            "Epoch 6/20\n",
            "3972/3972 [==============================] - 37s 9ms/step - loss: 0.3386 - precision: 0.0979 - recall_at_precision: 3.5461e-04 - true_positives: 2813.0000 - val_loss: 0.3814 - val_precision: 0.0808 - val_recall_at_precision: 0.0000e+00 - val_true_positives: 625.0000\n",
            "Epoch 7/20\n",
            "3972/3972 [==============================] - 37s 9ms/step - loss: 0.3342 - precision: 0.0999 - recall_at_precision: 0.0000e+00 - true_positives: 2810.0000 - val_loss: 0.3571 - val_precision: 0.0859 - val_recall_at_precision: 0.0000e+00 - val_true_positives: 625.0000\n",
            "Epoch 8/20\n",
            "3972/3972 [==============================] - 36s 9ms/step - loss: 0.3298 - precision: 0.1007 - recall_at_precision: 0.0000e+00 - true_positives: 2812.0000 - val_loss: 0.3507 - val_precision: 0.0890 - val_recall_at_precision: 0.0000e+00 - val_true_positives: 625.0000\n",
            "Epoch 9/20\n",
            "3972/3972 [==============================] - 36s 9ms/step - loss: 0.3307 - precision: 0.1006 - recall_at_precision: 0.0000e+00 - true_positives: 2810.0000 - val_loss: 0.3431 - val_precision: 0.0904 - val_recall_at_precision: 0.0000e+00 - val_true_positives: 625.0000\n",
            "Epoch 10/20\n",
            "3972/3972 [==============================] - 37s 9ms/step - loss: 0.3295 - precision: 0.1014 - recall_at_precision: 0.0000e+00 - true_positives: 2812.0000 - val_loss: 0.3708 - val_precision: 0.0846 - val_recall_at_precision: 0.0000e+00 - val_true_positives: 625.0000\n",
            "Epoch 11/20\n",
            "3972/3972 [==============================] - 36s 9ms/step - loss: 0.3280 - precision: 0.1023 - recall_at_precision: 0.0000e+00 - true_positives: 2812.0000 - val_loss: 0.3545 - val_precision: 0.0902 - val_recall_at_precision: 0.0000e+00 - val_true_positives: 625.0000\n",
            "Epoch 12/20\n",
            "3972/3972 [==============================] - 36s 9ms/step - loss: 0.3264 - precision: 0.1025 - recall_at_precision: 0.0000e+00 - true_positives: 2812.0000 - val_loss: 0.3380 - val_precision: 0.0927 - val_recall_at_precision: 0.0000e+00 - val_true_positives: 625.0000\n",
            "Epoch 13/20\n",
            "3972/3972 [==============================] - 36s 9ms/step - loss: 0.3223 - precision: 0.1040 - recall_at_precision: 0.0000e+00 - true_positives: 2812.0000 - val_loss: 0.3595 - val_precision: 0.0877 - val_recall_at_precision: 0.0000e+00 - val_true_positives: 625.0000\n",
            "Epoch 14/20\n",
            "3972/3972 [==============================] - 36s 9ms/step - loss: 0.3229 - precision: 0.1048 - recall_at_precision: 0.0000e+00 - true_positives: 2809.0000 - val_loss: 0.3528 - val_precision: 0.0905 - val_recall_at_precision: 0.0000e+00 - val_true_positives: 625.0000\n",
            "Epoch 15/20\n",
            "3972/3972 [==============================] - 37s 9ms/step - loss: 0.3224 - precision: 0.1053 - recall_at_precision: 0.0000e+00 - true_positives: 2809.0000 - val_loss: 0.3446 - val_precision: 0.0915 - val_recall_at_precision: 0.0000e+00 - val_true_positives: 625.0000\n",
            "Epoch 16/20\n",
            "3972/3972 [==============================] - 36s 9ms/step - loss: 0.3225 - precision: 0.1060 - recall_at_precision: 0.0000e+00 - true_positives: 2810.0000 - val_loss: 0.3551 - val_precision: 0.0889 - val_recall_at_precision: 0.0000e+00 - val_true_positives: 625.0000\n",
            "Epoch 17/20\n",
            "3972/3972 [==============================] - 36s 9ms/step - loss: 0.3219 - precision: 0.1052 - recall_at_precision: 0.0000e+00 - true_positives: 2814.0000 - val_loss: 0.3497 - val_precision: 0.0900 - val_recall_at_precision: 0.0000e+00 - val_true_positives: 625.0000\n",
            "Epoch 18/20\n",
            "3972/3972 [==============================] - 36s 9ms/step - loss: 0.3178 - precision: 0.1064 - recall_at_precision: 0.0000e+00 - true_positives: 2812.0000 - val_loss: 0.3627 - val_precision: 0.0855 - val_recall_at_precision: 0.0000e+00 - val_true_positives: 625.0000\n",
            "Epoch 19/20\n",
            "3972/3972 [==============================] - 36s 9ms/step - loss: 0.3170 - precision: 0.1064 - recall_at_precision: 0.0000e+00 - true_positives: 2812.0000 - val_loss: 0.3746 - val_precision: 0.0848 - val_recall_at_precision: 0.0000e+00 - val_true_positives: 625.0000\n",
            "Epoch 20/20\n",
            "3972/3972 [==============================] - 36s 9ms/step - loss: 0.3167 - precision: 0.1070 - recall_at_precision: 0.0000e+00 - true_positives: 2809.0000 - val_loss: 0.3843 - val_precision: 0.0814 - val_recall_at_precision: 0.0000e+00 - val_true_positives: 625.0000\n"
          ]
        },
        {
          "output_type": "execute_result",
          "data": {
            "text/plain": [
              "<keras.callbacks.History at 0x7ff7edab3fd0>"
            ]
          },
          "metadata": {},
          "execution_count": 12
        }
      ]
    },
    {
      "cell_type": "code",
      "source": [
        "import nltk\n",
        "import sklearn\n",
        "\n",
        "print('The nltk version is {}.'.format(nltk.__version__))\n",
        "print('The scikit-learn version is {}.'.format(sklearn.__version__))"
      ],
      "metadata": {
        "colab": {
          "base_uri": "https://localhost:8080/"
        },
        "id": "B9ON1AH58wa2",
        "outputId": "ce4573be-9113-4e82-bff0-a25d7597087a"
      },
      "execution_count": 37,
      "outputs": [
        {
          "output_type": "stream",
          "name": "stdout",
          "text": [
            "The nltk version is 3.7.\n",
            "The scikit-learn version is 1.0.2.\n"
          ]
        }
      ]
    },
    {
      "cell_type": "code",
      "source": [
        "from keras.models import Sequential\n",
        "from keras.layers import Dense, LSTM, BatchNormalization\n",
        "from sklearn.utils import class_weight\n",
        "import keras\n",
        "from tensorflow import keras\n",
        "from tensorflow.keras.layers import Dropout\n",
        "#checkpoint_filepath = 'C:\\\\Users\\\\nitza\\\\Desktop\\\\Kaggle\\\\Trading\\\\for_send\\\\GOLD\\\\'\n",
        "#dump(sc, checkpoint_filepath+'GOLD_scaler.bin', compress=True)\n",
        "\n",
        "model_checkpoint_callback = keras.callbacks.ModelCheckpoint(\n",
        "    filepath='./',\n",
        "    save_weights_only=True,\n",
        "    monitor='val_precision',#val_precision\n",
        "    mode='max',\n",
        "    save_best_only=True)\n",
        "\n",
        "class_weights1 = class_weight.compute_class_weight('balanced',\n",
        "                                                 classes=np.unique(y_train),\n",
        "                                                 y=y_train)\n",
        "# Build the LSTM model\n",
        "model = Sequential()\n",
        "model.add(LSTM(64, return_sequences=False, input_shape= (x_train.shape[1], x_train.shape[2])))\n",
        "#model.add(BatchNormalization())\n",
        "#model.add(LSTM(128, return_sequences=False))\n",
        "#model.add(Dense(250, activation='LeakyReLU'))\n",
        "model.add(Dropout(0.5))\n",
        "#model.add(Dense(150, activation='LeakyReLU'))\n",
        "model.add(Dense(10, activation='LeakyReLU'))\n",
        "model.add(Dense(1, activation='sigmoid'))\n",
        "opt = keras.optimizers.Adam()#learning_rate=0.001\n",
        "# Compile the model\n",
        "model.compile(optimizer=opt, loss=keras.losses.BinaryCrossentropy(),  #loss= keras.losses.CategoricalCrossentropy(),# 'mse', \n",
        "      metrics=[keras.metrics.Precision(name='precision'),keras.metrics.RecallAtPrecision(0.90),keras.metrics.TruePositives(thresholds=0.01)])#thresholds=0.01      [keras.metrics.TruePositives(thresholds=0.1)]\n",
        "\n",
        "# Train the model  callbacks=[model_checkpoint_callback]\n",
        "model.fit(x_train, y_train, epochs=6,callbacks=[model_checkpoint_callback],class_weight = {0: class_weights1[0],1:class_weights1[1] },shuffle=False,validation_data=(x_test, y_test))"
      ],
      "metadata": {
        "colab": {
          "base_uri": "https://localhost:8080/"
        },
        "id": "Kh3hyxCmEqOP",
        "outputId": "ef4f3d28-54e0-48da-a8c7-c6d1f30f34b6"
      },
      "execution_count": 12,
      "outputs": [
        {
          "output_type": "stream",
          "name": "stdout",
          "text": [
            "Epoch 1/6\n",
            "4221/4221 [==============================] - 39s 9ms/step - loss: 0.4483 - precision: 0.0731 - recall_at_precision_1: 0.0000e+00 - true_positives_1: 2982.0000 - val_loss: 0.4020 - val_precision: 0.0764 - val_recall_at_precision_1: 0.0000e+00 - val_true_positives_1: 464.0000\n",
            "Epoch 2/6\n",
            "4221/4221 [==============================] - 36s 9ms/step - loss: 0.3695 - precision: 0.0870 - recall_at_precision_1: 0.0000e+00 - true_positives_1: 2980.0000 - val_loss: 0.3948 - val_precision: 0.0770 - val_recall_at_precision_1: 0.0000e+00 - val_true_positives_1: 463.0000\n",
            "Epoch 3/6\n",
            "4221/4221 [==============================] - 36s 8ms/step - loss: 0.3509 - precision: 0.0920 - recall_at_precision_1: 0.0000e+00 - true_positives_1: 2977.0000 - val_loss: 0.3634 - val_precision: 0.0825 - val_recall_at_precision_1: 0.0000e+00 - val_true_positives_1: 463.0000\n",
            "Epoch 4/6\n",
            "4221/4221 [==============================] - 36s 9ms/step - loss: 0.3399 - precision: 0.0959 - recall_at_precision_1: 0.0000e+00 - true_positives_1: 2974.0000 - val_loss: 0.3760 - val_precision: 0.0807 - val_recall_at_precision_1: 0.0000e+00 - val_true_positives_1: 462.0000\n",
            "Epoch 5/6\n",
            "4221/4221 [==============================] - 36s 8ms/step - loss: 0.3340 - precision: 0.0979 - recall_at_precision_1: 0.0000e+00 - true_positives_1: 2975.0000 - val_loss: 0.3705 - val_precision: 0.0829 - val_recall_at_precision_1: 0.0000e+00 - val_true_positives_1: 462.0000\n",
            "Epoch 6/6\n",
            "4221/4221 [==============================] - 37s 9ms/step - loss: 0.3282 - precision: 0.0998 - recall_at_precision_1: 0.0000e+00 - true_positives_1: 2978.0000 - val_loss: 0.3612 - val_precision: 0.0864 - val_recall_at_precision_1: 0.0000e+00 - val_true_positives_1: 462.0000\n"
          ]
        },
        {
          "output_type": "execute_result",
          "data": {
            "text/plain": [
              "<keras.callbacks.History at 0x7f74915f2290>"
            ]
          },
          "metadata": {},
          "execution_count": 12
        }
      ]
    },
    {
      "cell_type": "code",
      "source": [
        "model.load_weights('./')\n",
        "train_test=[model.predict(x_train),model.predict(x_test)]\n",
        "thread=0.5\n",
        "predictTes=pd.DataFrame(data=np.column_stack((y_test,train_test[1])),columns=['test','predict'])\n",
        "predictTra=pd.DataFrame(data=np.column_stack((y_train,train_test[0])),columns=['train','predict'])\n",
        "\n",
        "predictTes['new']=(predictTes['predict']>thread).astype(int)\n",
        "predictTes['diff']=predictTes.test-predictTes.new\n",
        "loss=predictTes[predictTes['diff']==-1].shape[0]\n",
        "trades=predictTes[predictTes['new']==1].shape[0]\n",
        "\n",
        "predictTra['new']=(predictTra['predict']>thread).astype(int)\n",
        "predictTra['diff']=predictTra.train-predictTra.new\n",
        "lossTr=predictTra[predictTra['diff']==-1].shape[0]\n",
        "tradesTr=predictTra[predictTra['new']==1].shape[0]\n",
        "\n",
        "\n",
        "print(\"tradesTr\",tradesTr)\n",
        "print(\"predict_losTrain\", lossTr)\n",
        "print(\"predict_Train Win\", tradesTr-lossTr)\n",
        "try:\n",
        "    print(\"rate_of_win_trades,train\",(tradesTr-lossTr)/tradesTr )\n",
        "#      Bach_size_dict[i]=((trades-loss)/trades);  \n",
        "except:\n",
        "    print(\"rate_of_win_tradesTr=0\")\n",
        "print(\"tradesTest\",trades)\n",
        "print(\"predict_losTest\", loss)\n",
        "print(\"predict_Win\",trades-loss )\n",
        "try:\n",
        "    proc_test=(trades-loss)/trades\n",
        "    print(\"rate_of_win_trades,test\",(trades-loss)/trades )\n",
        "#    Bach_size_dict[i]=((trades-loss)/trades);\n",
        "except:\n",
        "    print(\"rate_of_win_tradesTest=0\")\n",
        "scoreTmp= (trades-loss)*3-loss\n",
        "\n"
      ],
      "metadata": {
        "id": "Dfas31KrRVO0"
      },
      "execution_count": null,
      "outputs": []
    },
    {
      "cell_type": "code",
      "source": [],
      "metadata": {
        "id": "jEWO7DSChu7E"
      },
      "execution_count": null,
      "outputs": []
    }
  ]
}